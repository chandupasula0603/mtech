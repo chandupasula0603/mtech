{
  "nbformat": 4,
  "nbformat_minor": 0,
  "metadata": {
    "colab": {
      "name": "Untitled2.ipynb",
      "provenance": [],
      "authorship_tag": "ABX9TyOwZENt4r+bvEM6biNePn1s",
      "include_colab_link": true
    },
    "kernelspec": {
      "name": "python3",
      "display_name": "Python 3"
    },
    "language_info": {
      "name": "python"
    }
  },
  "cells": [
    {
      "cell_type": "markdown",
      "metadata": {
        "id": "view-in-github",
        "colab_type": "text"
      },
      "source": [
        "<a href=\"https://colab.research.google.com/github/chandupasula0603/mtech/blob/main/Untitled2.ipynb\" target=\"_parent\"><img src=\"https://colab.research.google.com/assets/colab-badge.svg\" alt=\"Open In Colab\"/></a>"
      ]
    },
    {
      "cell_type": "code",
      "execution_count": 36,
      "metadata": {
        "colab": {
          "base_uri": "https://localhost:8080/"
        },
        "id": "9Xb-tfhO2mH7",
        "outputId": "b20c8e1b-f12f-408a-976a-af89350456f0"
      },
      "outputs": [
        {
          "output_type": "stream",
          "name": "stdout",
          "text": [
            "100\n",
            "900\n",
            "200\n"
          ]
        }
      ],
      "source": [
        "class indianperson:\n",
        "  def __init__(self,n,a):\n",
        "    self.name=n\n",
        "    self.age=a\n",
        "  def adharcard(self):\n",
        "    d={\"chandu\":100,\"anil\":200,\"thanuj\":300,\"vinod\":400}\n",
        "    for i in d:\n",
        "      if i==self.name:\n",
        "        x=d[self.name]\n",
        "        print(x)\n",
        "class tsperson(indianperson):\n",
        "  def __init__(self,n):\n",
        "    self.name=n\n",
        "  def rationcard(self):\n",
        "    r={\"anil\":800,\"chandu\":900,\"thanuj\":500}  \n",
        "    for j in r:\n",
        "      if j==self.name:\n",
        "        y=r[self.name]\n",
        "        print(y)\n",
        "chandu=tsperson(\"chandu\")\n",
        "anil=indianperson(\"anil\",20) \n",
        "chandu.adharcard() \n",
        "chandu.rationcard()      \n",
        "anil.adharcard()   \n"
      ]
    }
  ]
}