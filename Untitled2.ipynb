{
  "nbformat": 4,
  "nbformat_minor": 0,
  "metadata": {
    "colab": {
      "name": "Untitled2.ipynb",
      "provenance": [],
      "authorship_tag": "ABX9TyMTZBBLMPBet2MrfPT7S2sn",
      "include_colab_link": true
    },
    "kernelspec": {
      "name": "python3",
      "display_name": "Python 3"
    },
    "language_info": {
      "name": "python"
    }
  },
  "cells": [
    {
      "cell_type": "markdown",
      "metadata": {
        "id": "view-in-github",
        "colab_type": "text"
      },
      "source": [
        "<a href=\"https://colab.research.google.com/github/chandupasula0603/mtech/blob/main/Untitled2.ipynb\" target=\"_parent\"><img src=\"https://colab.research.google.com/assets/colab-badge.svg\" alt=\"Open In Colab\"/></a>"
      ]
    },
    {
      "cell_type": "code",
      "execution_count": 43,
      "metadata": {
        "colab": {
          "base_uri": "https://localhost:8080/"
        },
        "id": "9Xb-tfhO2mH7",
        "outputId": "4f5c56c7-f6ce-4985-ed51-eef2e0fc70ad"
      },
      "outputs": [
        {
          "output_type": "stream",
          "name": "stdout",
          "text": [
            "chandu adharcardno:100\n",
            "chandu rationcardno: 900\n",
            "anil adharcardno:200\n"
          ]
        }
      ],
      "source": [
        "class indianperson:\n",
        "  def __init__(self,n,a):\n",
        "    self.name=n\n",
        "    self.age=a\n",
        "  def adharcard(self):\n",
        "    d={\"chandu\":100,\"anil\":200,\"thanuj\":300,\"vinod\":400}\n",
        "    for i in d:\n",
        "      if i==self.name:\n",
        "        x=d[self.name]\n",
        "        print(\"{} adharcardno:{}\".format(self.name,x))\n",
        "class tsperson(indianperson):\n",
        "  def __init__(self,n):\n",
        "    self.name=n\n",
        "  def rationcard(self):\n",
        "    r={\"anil\":800,\"chandu\":900,\"thanuj\":500}  \n",
        "    for i in r:\n",
        "      if i==self.name:\n",
        "        y=r[self.name]\n",
        "        print(self.name,\"rationcardno:\",y)\n",
        "chandu=tsperson(\"chandu\")\n",
        "anil=indianperson(\"anil\",20) \n",
        "chandu.adharcard() \n",
        "chandu.rationcard()      \n",
        "anil.adharcard()   \n"
      ]
    }
  ]
}