{
  "nbformat": 4,
  "nbformat_minor": 0,
  "metadata": {
    "colab": {
      "name": "DFS.ipynb",
      "provenance": [],
      "authorship_tag": "ABX9TyMuNtzIpEQytgpMW4w3VTms",
      "include_colab_link": true
    },
    "kernelspec": {
      "name": "python3",
      "display_name": "Python 3"
    },
    "language_info": {
      "name": "python"
    }
  },
  "cells": [
    {
      "cell_type": "markdown",
      "metadata": {
        "id": "view-in-github",
        "colab_type": "text"
      },
      "source": [
        "<a href=\"https://colab.research.google.com/github/chandupasula0603/mtech/blob/main/DFS.ipynb\" target=\"_parent\"><img src=\"https://colab.research.google.com/assets/colab-badge.svg\" alt=\"Open In Colab\"/></a>"
      ]
    },
    {
      "cell_type": "code",
      "execution_count": 7,
      "metadata": {
        "colab": {
          "base_uri": "https://localhost:8080/"
        },
        "id": "OWP29jIFQMN-",
        "outputId": "ce880f38-5459-4581-9361-aa4c6a762e21"
      },
      "outputs": [
        {
          "output_type": "stream",
          "name": "stdout",
          "text": [
            "enter the no of vertices:6\n",
            "enter the vertex:4\n",
            "is there any children vertices enter yes/no:no\n",
            "enter the vertex:2\n",
            "is there any children vertices enter yes/no:no\n",
            "enter the vertex:7\n",
            "is there any children vertices enter yes/no:yes\n",
            "enter the childrens vertices (note:if more than 1 use ','to separate them):8\n",
            "enter the vertex:8\n",
            "is there any children vertices enter yes/no:no\n",
            "enter the vertex:3\n",
            "is there any children vertices enter yes/no:yes\n",
            "enter the childrens vertices (note:if more than 1 use ','to separate them):4,3\n",
            "enter the vertex:5\n",
            "is there any children vertices enter yes/no:yes\n",
            "enter the childrens vertices (note:if more than 1 use ','to separate them):7,3\n",
            "DSF\n",
            "enter the root node5\n",
            "5 3 4 7 8 "
          ]
        }
      ],
      "source": [
        "a=int(input(\"enter the no of vertices:\"))\n",
        "graph={}\n",
        "for i in range(a):\n",
        "  b=input(\"enter the vertex:\")\n",
        "  c=input(\"is there any children vertices enter yes/no:\").upper()\n",
        "  if c=='YES':\n",
        "    d=input(\"enter the childrens vertices (note:if more than 1 use ','to separate them):\").split(\",\")  \n",
        "    graph[b]=d\n",
        "  else:\n",
        "    graph[b]=[]  \n",
        "visited=[]\n",
        "stack=[]\n",
        "def dfs(visited,graph,node):\n",
        "  visited.append(node)\n",
        "  stack.append(node)\n",
        "  while stack:\n",
        "    m=stack.pop()\n",
        "    print(m,end=\" \")\n",
        "    for neighbour in graph[m]:\n",
        "      if neighbour not in visited:\n",
        "        visited.append(neighbour)\n",
        "        stack.append(neighbour)\n",
        "print(\"DSF\")\n",
        "dfs(visited,graph,input(\"enter the root node\"))        \n",
        "         "
      ]
    }
  ]
}