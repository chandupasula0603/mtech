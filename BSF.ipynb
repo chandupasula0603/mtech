{
  "nbformat": 4,
  "nbformat_minor": 0,
  "metadata": {
    "colab": {
      "name": "BSF.ipynb",
      "provenance": [],
      "authorship_tag": "ABX9TyPACp/622crvSGcREwFmE71",
      "include_colab_link": true
    },
    "kernelspec": {
      "name": "python3",
      "display_name": "Python 3"
    },
    "language_info": {
      "name": "python"
    }
  },
  "cells": [
    {
      "cell_type": "markdown",
      "metadata": {
        "id": "view-in-github",
        "colab_type": "text"
      },
      "source": [
        "<a href=\"https://colab.research.google.com/github/chandupasula0603/mtech/blob/main/BSF.ipynb\" target=\"_parent\"><img src=\"https://colab.research.google.com/assets/colab-badge.svg\" alt=\"Open In Colab\"/></a>"
      ]
    },
    {
      "cell_type": "code",
      "execution_count": null,
      "metadata": {
        "id": "pVuEVq11bAlM"
      },
      "outputs": [],
      "source": [
        "a=int(input(\"enter the no of vertices:\"))\n",
        "graph={}\n",
        "for i in range(a):\n",
        "  b=input(\"enter the vertex:\")\n",
        "  c=input(\"is there any children vertices enter yes/no:\").upper()\n",
        "  if c=='YES':\n",
        "    d=input(\"enter the childrens vertices(note:use \",\"to separate them)\").split(\",\")\n",
        "    graph[b]=d\n",
        "visited=[]\n",
        "queue=[]\n",
        "def bfs(visited,graph,node):\n",
        "  visited.append(node)\n",
        "  queue.append(node)\n",
        "  while queue:\n",
        "    m=queue.pop(0)\n",
        "    print(m,end=\" \")\n",
        "    for neighbour in graph[m]:\n",
        "      if neighbour not in visited:\n",
        "        visited.append(neighbour)\n",
        "        visited.append(neighbour)\n",
        "print(\"BSF\")\n",
        "bsf(visited,graph,input(enter the root node))        \n",
        "         \n"
      ]
    }
  ]
}